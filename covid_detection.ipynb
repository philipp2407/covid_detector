{
 "cells": [
  {
   "cell_type": "code",
   "execution_count": 6,
   "metadata": {},
   "outputs": [],
   "source": [
    "%matplotlib inline\n",
    "import torch\n",
    "import torchvision\n",
    "import matplotlib.pyplot as plt\n",
    "from PIL import Image\n",
    "import numpy as np\n",
    "import random\n",
    "import os\n",
    "import shutil\n"
   ]
  },
  {
   "cell_type": "code",
   "execution_count": 9,
   "metadata": {},
   "outputs": [],
   "source": [
    "root_dir = \"COVID-19_Radiography_Dataset\"\n",
    "classes = ['covid','normal','pneumonia']\n",
    "\n",
    "# create a test folder and move 30 images of each class there\n",
    "if not os.path.isdir(os.path.join(root_dir,'test')):\n",
    "    os.mkdir(os.path.join(root_dir,'test')) # create a test folder\n",
    "    for c in classes:\n",
    "        images = [x for x in os.listdir(os.path.join(root_dir, c)) if x.lower().endswith('png')]\n",
    "        selected_images = random.sample(images, 30)\n",
    "        for image in selected_images:\n",
    "            source_path = os.path.join(root_dir, c, image)\n",
    "            target_path = os.path.join(root_dir, 'test', c, image)\n",
    "            shutil.move(source_path, target_path)\n",
    "\n",
    "# display an image\n",
    "image_path = os.path.join(root_dir, classes[0], 'COVID-1.png')\n",
    "img = Image.open(image_path)\n",
    "#display(img)"
   ]
  },
  {
   "cell_type": "code",
   "execution_count": null,
   "metadata": {},
   "outputs": [],
   "source": []
  },
  {
   "cell_type": "code",
   "execution_count": null,
   "metadata": {},
   "outputs": [],
   "source": []
  }
 ],
 "metadata": {
  "kernelspec": {
   "display_name": ".cov_env",
   "language": "python",
   "name": "python3"
  },
  "language_info": {
   "codemirror_mode": {
    "name": "ipython",
    "version": 3
   },
   "file_extension": ".py",
   "mimetype": "text/x-python",
   "name": "python",
   "nbconvert_exporter": "python",
   "pygments_lexer": "ipython3",
   "version": "3.11.5"
  }
 },
 "nbformat": 4,
 "nbformat_minor": 2
}
